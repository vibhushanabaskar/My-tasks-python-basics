{
 "cells": [
  {
   "cell_type": "code",
   "execution_count": 2,
   "metadata": {},
   "outputs": [
    {
     "name": "stdout",
     "output_type": "stream",
     "text": [
      "Sum of a+b: -11.800000000000004\n"
     ]
    }
   ],
   "source": [
    "#1 Print sum of the two numbers\n",
    "a=float(input(\"Enter a: \"))\n",
    "b=float(input(\"Enter b: \"))\n",
    "c=a+b\n",
    "print(\"Sum of a+b:\",c)"
   ]
  },
  {
   "cell_type": "code",
   "execution_count": 3,
   "metadata": {},
   "outputs": [
    {
     "name": "stdout",
     "output_type": "stream",
     "text": [
      "Sum:  11.05\n",
      "Product:  -284.7144\n"
     ]
    }
   ],
   "source": [
    "#2 Calculate the multiplication and sum of two numbers\n",
    "a=float(input(\"Enter a: \"))\n",
    "b=float(input(\"Enter b: \"))\n",
    "sum=a+b\n",
    "prod=a*b\n",
    "print(\"Sum: \",sum)\n",
    "print(\"Product: \",prod)"
   ]
  },
  {
   "cell_type": "code",
   "execution_count": 4,
   "metadata": {},
   "outputs": [
    {
     "name": "stdout",
     "output_type": "stream",
     "text": [
      "Sum of current and previous numbers\n",
      "Current number:  0 and Previous number:  -1\n",
      "-1\n",
      "Current number:  1 and Previous number:  0\n",
      "1\n",
      "Current number:  2 and Previous number:  1\n",
      "3\n",
      "Current number:  3 and Previous number:  2\n",
      "5\n",
      "Current number:  4 and Previous number:  3\n",
      "7\n",
      "Current number:  5 and Previous number:  4\n",
      "9\n",
      "Current number:  6 and Previous number:  5\n",
      "11\n",
      "Current number:  7 and Previous number:  6\n",
      "13\n",
      "Current number:  8 and Previous number:  7\n",
      "15\n",
      "Current number:  9 and Previous number:  8\n",
      "17\n",
      "Current number:  10 and Previous number:  9\n",
      "19\n",
      "Current number:  11 and Previous number:  10\n",
      "21\n",
      "Current number:  12 and Previous number:  11\n",
      "23\n",
      "Current number:  13 and Previous number:  12\n",
      "25\n"
     ]
    }
   ],
   "source": [
    "#3 Write a program to iterate the first 10 numbers, and in each iteration, print the sum of the current and previous number\n",
    "n=int(input(\"Enter the number: \"))\n",
    "print(\"Sum of current and previous numbers\")\n",
    "for i in range(n):\n",
    "    print(\"Current number: \",i, \"and Previous number: \",i-1)\n",
    "    print(i+(i-1))"
   ]
  },
  {
   "cell_type": "code",
   "execution_count": 6,
   "metadata": {},
   "outputs": [
    {
     "name": "stdout",
     "output_type": "stream",
     "text": [
      "good day all\n",
      "go a l\n"
     ]
    }
   ],
   "source": [
    "#4 Print characters from a string that are present at an even index number\n",
    "string=input(\"Enter a string: \")\n",
    "print(string)\n",
    "evenindexstring=string[::2]\n",
    "print(evenindexstring)"
   ]
  },
  {
   "cell_type": "code",
   "execution_count": 9,
   "metadata": {},
   "outputs": [
    {
     "name": "stdout",
     "output_type": "stream",
     "text": [
      "ultramicroscopic\n",
      "amicroscopic\n"
     ]
    }
   ],
   "source": [
    "#5 Remove first n characters from a string\n",
    "string=input(\"Enter a string: \")\n",
    "print(string)\n",
    "n=int(input(\"Enter number of words to be removed : \"))\n",
    "if n<=len(string):\n",
    "    rem=string[n::]\n",
    "    print(rem)\n",
    "else:\n",
    "    print(\"Number of characters to be removed has exceeded the length of the string\")"
   ]
  },
  {
   "cell_type": "code",
   "execution_count": 10,
   "metadata": {},
   "outputs": [
    {
     "name": "stdout",
     "output_type": "stream",
     "text": [
      "7\n",
      "1070\n",
      "27\n",
      "The numbers divisible by 27 between 7 and 1070 are: [27, 54, 81, 108, 135, 162, 189, 216, 243, 270, 297, 324, 351, 378, 405, 432, 459, 486, 513, 540, 567, 594, 621, 648, 675, 702, 729, 756, 783, 810, 837, 864, 891, 918, 945, 972, 999, 1026, 1053]\n"
     ]
    }
   ],
   "source": [
    "#6 Display numbers that are divisible by 2 from 1 to 100\n",
    "def divisible_by_n(start,stop,n):\n",
    "    div_num=[]\n",
    "    for i in range (start,stop+1):\n",
    "        if i%n==0:\n",
    "            div_num.append(i)\n",
    "    print(\"The numbers divisible by\",n,\"between\",start,\"and\", stop,\"are:\",div_num)\n",
    "\n",
    "start=int(input(\"Enter starting number: \"))\n",
    "print(start)\n",
    "stop=int(input(\"Enter the ending number: \"))\n",
    "print(stop)\n",
    "n=int(input(\"Enter number for divisibility check: \"))\n",
    "print(n)\n",
    "divisible_by_n(start,stop,n)"
   ]
  },
  {
   "cell_type": "code",
   "execution_count": 11,
   "metadata": {},
   "outputs": [
    {
     "name": "stdout",
     "output_type": "stream",
     "text": [
      "String:  goodmorningtooneandallpresentgooddaygoodweek\n",
      "Substring:  goodday\n",
      "Substring is present in the string\n"
     ]
    }
   ],
   "source": [
    "#7 Write a program to check whether the given substring exists in a string\n",
    "string=input(\"Enter a string: \")\n",
    "print(\"String: \",string)\n",
    "substring=input(\"Enter a substring: \")\n",
    "print(\"Substring: \",substring)\n",
    "if substring in string:\n",
    "    print(\"Substring is present in the string\")\n",
    "else:\n",
    "    print(\"Substring is not prsent in the string\")"
   ]
  },
  {
   "cell_type": "code",
   "execution_count": 12,
   "metadata": {},
   "outputs": [
    {
     "name": "stdout",
     "output_type": "stream",
     "text": [
      "supermarket\n",
      "Reverse of string:  tekramrepus\n"
     ]
    }
   ],
   "source": [
    "#8 Reverse Words in a Given String in Python\n",
    "string=input(\"Enter a string: \")\n",
    "print(string)\n",
    "reverse=string[::-1]\n",
    "print(\"Reverse of string: \",reverse)"
   ]
  },
  {
   "cell_type": "code",
   "execution_count": 13,
   "metadata": {},
   "outputs": [
    {
     "name": "stdout",
     "output_type": "stream",
     "text": [
      "original a= lala\n",
      "original b= rerere\n",
      "swapped a = rerere\n",
      "swapped b = lala\n"
     ]
    }
   ],
   "source": [
    "#9 Swap the values from two variables\n",
    "a=input(\"Enter a: \")\n",
    "print(\"original a=\",a)\n",
    "b=input(\"Enter b: \")\n",
    "print(\"original b=\",b)\n",
    "a,b=b,a\n",
    "print(\"swapped a =\",a)\n",
    "print(\"swapped b =\",b)"
   ]
  },
  {
   "cell_type": "code",
   "execution_count": 14,
   "metadata": {},
   "outputs": [
    {
     "name": "stdout",
     "output_type": "stream",
     "text": [
      "String:  hoteldelluna\n",
      "String to be removed:  del\n",
      "String to be replaced:  proto\n",
      "hotelprotoluna\n"
     ]
    }
   ],
   "source": [
    "#10 Remove the word from the string and replace with other string\n",
    "string=input(\"Enter a string: \")\n",
    "print(\"String: \",string)\n",
    "remove=input(\"Enter string to be removed: \")\n",
    "print(\"String to be removed: \",remove)\n",
    "replace=input(\"Enter string to be replaced: \")\n",
    "print(\"String to be replaced: \",replace)\n",
    "if remove in string:\n",
    "    index=string.find(remove)\n",
    "    new_string = string[:index] + replace + string[index+len(remove):]\n",
    "    print(new_string)    \n",
    "else:\n",
    "    print(\"The word to be removed is not found in the string\")"
   ]
  }
 ],
 "metadata": {
  "kernelspec": {
   "display_name": "Python 3",
   "language": "python",
   "name": "python3"
  },
  "language_info": {
   "codemirror_mode": {
    "name": "ipython",
    "version": 3
   },
   "file_extension": ".py",
   "mimetype": "text/x-python",
   "name": "python",
   "nbconvert_exporter": "python",
   "pygments_lexer": "ipython3",
   "version": "3.11.9"
  }
 },
 "nbformat": 4,
 "nbformat_minor": 2
}
